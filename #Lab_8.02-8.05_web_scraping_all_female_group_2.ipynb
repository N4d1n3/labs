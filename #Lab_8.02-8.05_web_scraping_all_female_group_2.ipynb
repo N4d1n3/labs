{
 "cells": [
  {
   "cell_type": "markdown",
   "metadata": {},
   "source": [
    "# Lab | Web Scraping Single Page"
   ]
  },
  {
   "cell_type": "code",
   "execution_count": 1,
   "metadata": {},
   "outputs": [],
   "source": [
    "from bs4 import BeautifulSoup\n",
    "import requests\n",
    "import pandas as pd\n",
    "from tqdm.notebook import tqdm"
   ]
  },
  {
   "cell_type": "code",
   "execution_count": null,
   "metadata": {},
   "outputs": [],
   "source": []
  },
  {
   "cell_type": "code",
   "execution_count": 2,
   "metadata": {},
   "outputs": [],
   "source": [
    "from bs4 import BeautifulSoup\n",
    "import requests\n",
    "import pandas as pd\n",
    "\n",
    "url = \"https://www.billboard.com/charts/hot-100\""
   ]
  },
  {
   "cell_type": "code",
   "execution_count": null,
   "metadata": {},
   "outputs": [],
   "source": []
  },
  {
   "cell_type": "code",
   "execution_count": 3,
   "metadata": {},
   "outputs": [],
   "source": [
    "response = requests.get(url)"
   ]
  },
  {
   "cell_type": "code",
   "execution_count": 4,
   "metadata": {},
   "outputs": [
    {
     "data": {
      "text/plain": [
       "200"
      ]
     },
     "execution_count": 4,
     "metadata": {},
     "output_type": "execute_result"
    }
   ],
   "source": [
    "response.status_code"
   ]
  },
  {
   "cell_type": "code",
   "execution_count": 5,
   "metadata": {},
   "outputs": [],
   "source": [
    "soup = BeautifulSoup(response.content, \"html.parser\")"
   ]
  },
  {
   "cell_type": "code",
   "execution_count": 6,
   "metadata": {},
   "outputs": [
    {
     "name": "stderr",
     "output_type": "stream",
     "text": [
      "IOPub data rate exceeded.\n",
      "The notebook server will temporarily stop sending output\n",
      "to the client in order to avoid crashing it.\n",
      "To change this limit, set the config variable\n",
      "`--NotebookApp.iopub_data_rate_limit`.\n",
      "\n",
      "Current values:\n",
      "NotebookApp.iopub_data_rate_limit=1000000.0 (bytes/sec)\n",
      "NotebookApp.rate_limit_window=3.0 (secs)\n",
      "\n"
     ]
    }
   ],
   "source": [
    "print(soup.prettify())"
   ]
  },
  {
   "cell_type": "code",
   "execution_count": 7,
   "metadata": {},
   "outputs": [
    {
     "data": {
      "application/vnd.jupyter.widget-view+json": {
       "model_id": "7e9b8bef79f149cc98ff0f62324ccc45",
       "version_major": 2,
       "version_minor": 0
      },
      "text/plain": [
       "HBox(children=(HTML(value=''), FloatProgress(value=0.0), HTML(value='')))"
      ]
     },
     "metadata": {},
     "output_type": "display_data"
    },
    {
     "name": "stdout",
     "output_type": "stream",
     "text": [
      "\n"
     ]
    }
   ],
   "source": [
    "songs=[]\n",
    "for i in tqdm(soup.select('li span.chart-element__information__song')):\n",
    "    songs.append(i.get_text())"
   ]
  },
  {
   "cell_type": "code",
   "execution_count": 8,
   "metadata": {},
   "outputs": [
    {
     "data": {
      "application/vnd.jupyter.widget-view+json": {
       "model_id": "73e6c1ed0beb488ebaf16bdaef2f7df3",
       "version_major": 2,
       "version_minor": 0
      },
      "text/plain": [
       "HBox(children=(HTML(value=''), FloatProgress(value=0.0), HTML(value='')))"
      ]
     },
     "metadata": {},
     "output_type": "display_data"
    },
    {
     "name": "stdout",
     "output_type": "stream",
     "text": [
      "\n"
     ]
    }
   ],
   "source": [
    "artists=[]\n",
    "for i in tqdm(soup.select('li span.chart-element__information__artist')):\n",
    "    artists.append(i.get_text())"
   ]
  },
  {
   "cell_type": "code",
   "execution_count": 9,
   "metadata": {},
   "outputs": [],
   "source": [
    "df = pd.DataFrame({'song': songs, 'artist': artists})"
   ]
  },
  {
   "cell_type": "code",
   "execution_count": 10,
   "metadata": {},
   "outputs": [
    {
     "data": {
      "text/html": [
       "<div>\n",
       "<style scoped>\n",
       "    .dataframe tbody tr th:only-of-type {\n",
       "        vertical-align: middle;\n",
       "    }\n",
       "\n",
       "    .dataframe tbody tr th {\n",
       "        vertical-align: top;\n",
       "    }\n",
       "\n",
       "    .dataframe thead th {\n",
       "        text-align: right;\n",
       "    }\n",
       "</style>\n",
       "<table border=\"1\" class=\"dataframe\">\n",
       "  <thead>\n",
       "    <tr style=\"text-align: right;\">\n",
       "      <th></th>\n",
       "      <th>song</th>\n",
       "      <th>artist</th>\n",
       "    </tr>\n",
       "  </thead>\n",
       "  <tbody>\n",
       "    <tr>\n",
       "      <th>0</th>\n",
       "      <td>Drivers License</td>\n",
       "      <td>Olivia Rodrigo</td>\n",
       "    </tr>\n",
       "    <tr>\n",
       "      <th>1</th>\n",
       "      <td>34+35</td>\n",
       "      <td>Ariana Grande</td>\n",
       "    </tr>\n",
       "    <tr>\n",
       "      <th>2</th>\n",
       "      <td>Calling My Phone</td>\n",
       "      <td>Lil Tjay Featuring 6LACK</td>\n",
       "    </tr>\n",
       "    <tr>\n",
       "      <th>3</th>\n",
       "      <td>Blinding Lights</td>\n",
       "      <td>The Weeknd</td>\n",
       "    </tr>\n",
       "    <tr>\n",
       "      <th>4</th>\n",
       "      <td>Up</td>\n",
       "      <td>Cardi B</td>\n",
       "    </tr>\n",
       "    <tr>\n",
       "      <th>...</th>\n",
       "      <td>...</td>\n",
       "      <td>...</td>\n",
       "    </tr>\n",
       "    <tr>\n",
       "      <th>95</th>\n",
       "      <td>Almost Maybes</td>\n",
       "      <td>Jordan Davis</td>\n",
       "    </tr>\n",
       "    <tr>\n",
       "      <th>96</th>\n",
       "      <td>Back To The Streets</td>\n",
       "      <td>Saweetie Featuring Jhene Aiko</td>\n",
       "    </tr>\n",
       "    <tr>\n",
       "      <th>97</th>\n",
       "      <td>Bad Boy</td>\n",
       "      <td>Juice WRLD &amp; Young Thug</td>\n",
       "    </tr>\n",
       "    <tr>\n",
       "      <th>98</th>\n",
       "      <td>Opp Stoppa</td>\n",
       "      <td>YBN Nahmir Featuring 21 Savage</td>\n",
       "    </tr>\n",
       "    <tr>\n",
       "      <th>99</th>\n",
       "      <td>How They Remember You</td>\n",
       "      <td>Rascal Flatts</td>\n",
       "    </tr>\n",
       "  </tbody>\n",
       "</table>\n",
       "<p>100 rows × 2 columns</p>\n",
       "</div>"
      ],
      "text/plain": [
       "                     song                          artist\n",
       "0         Drivers License                  Olivia Rodrigo\n",
       "1                   34+35                   Ariana Grande\n",
       "2        Calling My Phone        Lil Tjay Featuring 6LACK\n",
       "3         Blinding Lights                      The Weeknd\n",
       "4                      Up                         Cardi B\n",
       "..                    ...                             ...\n",
       "95          Almost Maybes                    Jordan Davis\n",
       "96    Back To The Streets   Saweetie Featuring Jhene Aiko\n",
       "97                Bad Boy         Juice WRLD & Young Thug\n",
       "98             Opp Stoppa  YBN Nahmir Featuring 21 Savage\n",
       "99  How They Remember You                   Rascal Flatts\n",
       "\n",
       "[100 rows x 2 columns]"
      ]
     },
     "execution_count": 10,
     "metadata": {},
     "output_type": "execute_result"
    }
   ],
   "source": [
    "df"
   ]
  },
  {
   "cell_type": "markdown",
   "metadata": {},
   "source": [
    "## Lab 8.02"
   ]
  },
  {
   "cell_type": "code",
   "execution_count": 11,
   "metadata": {},
   "outputs": [],
   "source": [
    "url1 = (\"https://spotifycharts.com/viral/\")"
   ]
  },
  {
   "cell_type": "code",
   "execution_count": 12,
   "metadata": {},
   "outputs": [],
   "source": [
    "response = requests.get(url1)"
   ]
  },
  {
   "cell_type": "code",
   "execution_count": 13,
   "metadata": {},
   "outputs": [
    {
     "data": {
      "text/plain": [
       "200"
      ]
     },
     "execution_count": 13,
     "metadata": {},
     "output_type": "execute_result"
    }
   ],
   "source": [
    "response.status_code"
   ]
  },
  {
   "cell_type": "code",
   "execution_count": 14,
   "metadata": {},
   "outputs": [],
   "source": [
    "soup1 = BeautifulSoup(response.content, \"html.parser\")"
   ]
  },
  {
   "cell_type": "code",
   "execution_count": 15,
   "metadata": {},
   "outputs": [
    {
     "data": {
      "text/plain": [
       "[<strong>Wellerman - Sea Shanty / 220 KID x Billen Ted Remix</strong>]"
      ]
     },
     "execution_count": 15,
     "metadata": {},
     "output_type": "execute_result"
    }
   ],
   "source": [
    "#get all artist names 1st try\n",
    "soup1.select(\"#content > div > div > div > span > table > tbody > tr:nth-child(1) > td.chart-table-track > strong\")\n"
   ]
  },
  {
   "cell_type": "markdown",
   "metadata": {},
   "source": [
    "#content > div > div > div > span > table > tbody > tr:nth-child(1) > td.chart-table-track > strong"
   ]
  },
  {
   "cell_type": "code",
   "execution_count": 16,
   "metadata": {},
   "outputs": [
    {
     "data": {
      "text/plain": [
       "'Wellerman - Sea Shanty / 220 KID x Billen Ted Remix'"
      ]
     },
     "execution_count": 16,
     "metadata": {},
     "output_type": "execute_result"
    }
   ],
   "source": [
    "#get all song names 1st try\n",
    "soup1.select(\"tbody > tr:nth-child(1) > td.chart-table-track > strong\")[0].get_text()"
   ]
  },
  {
   "cell_type": "code",
   "execution_count": 17,
   "metadata": {},
   "outputs": [
    {
     "data": {
      "text/plain": [
       "[<span>by Nathan Evans</span>]"
      ]
     },
     "execution_count": 17,
     "metadata": {},
     "output_type": "execute_result"
    }
   ],
   "source": [
    "#get all artist 1st try\n",
    "soup1.select(\"#content > div > div > div > span > table > tbody > tr:nth-child(1) > td.chart-table-track > span\")"
   ]
  },
  {
   "cell_type": "code",
   "execution_count": 18,
   "metadata": {},
   "outputs": [],
   "source": [
    "len_table = len(soup.select(\"tbody > tr\"))"
   ]
  },
  {
   "cell_type": "code",
   "execution_count": 19,
   "metadata": {
    "collapsed": true,
    "jupyter": {
     "outputs_hidden": true
    }
   },
   "outputs": [
    {
     "data": {
      "text/plain": [
       "[<th class=\"chart-table-track\">Track</th>,\n",
       " <td class=\"chart-table-track\">\n",
       " <strong>Wellerman - Sea Shanty / 220 KID x Billen Ted Remix</strong>\n",
       " <span>by Nathan Evans</span>\n",
       " </td>,\n",
       " <td class=\"chart-table-track\">\n",
       " <strong>SugarCrash!</strong>\n",
       " <span>by ElyOtto</span>\n",
       " </td>,\n",
       " <td class=\"chart-table-track\">\n",
       " <strong>HEARTBREAK ANNIVERSARY</strong>\n",
       " <span>by Giveon</span>\n",
       " </td>,\n",
       " <td class=\"chart-table-track\">\n",
       " <strong>Astronaut In The Ocean</strong>\n",
       " <span>by Masked Wolf</span>\n",
       " </td>,\n",
       " <td class=\"chart-table-track\">\n",
       " <strong>telepatía</strong>\n",
       " <span>by Kali Uchis</span>\n",
       " </td>,\n",
       " <td class=\"chart-table-track\">\n",
       " <strong>Kota</strong>\n",
       " <span>by Dere</span>\n",
       " </td>,\n",
       " <td class=\"chart-table-track\">\n",
       " <strong>Wellerman - Sea Shanty</strong>\n",
       " <span>by Nathan Evans</span>\n",
       " </td>,\n",
       " <td class=\"chart-table-track\">\n",
       " <strong>Tokyo</strong>\n",
       " <span>by Leat'eq</span>\n",
       " </td>,\n",
       " <td class=\"chart-table-track\">\n",
       " <strong>Wellerman</strong>\n",
       " <span>by Sea Shanty</span>\n",
       " </td>,\n",
       " <td class=\"chart-table-track\">\n",
       " <strong>Deus Me Proteja</strong>\n",
       " <span>by Chico César</span>\n",
       " </td>,\n",
       " <td class=\"chart-table-track\">\n",
       " <strong>Tapão Na Raba</strong>\n",
       " <span>by Raí Saia Rodada</span>\n",
       " </td>,\n",
       " <td class=\"chart-table-track\">\n",
       " <strong>Weak</strong>\n",
       " <span>by Larissa Lambert</span>\n",
       " </td>,\n",
       " <td class=\"chart-table-track\">\n",
       " <strong>Starlight</strong>\n",
       " <span>by CHA NI (SF9)</span>\n",
       " </td>,\n",
       " <td class=\"chart-table-track\">\n",
       " <strong>Tomboy</strong>\n",
       " <span>by Destiny Rogers</span>\n",
       " </td>,\n",
       " <td class=\"chart-table-track\">\n",
       " <strong>I'm Missing You</strong>\n",
       " <span>by Sunjae</span>\n",
       " </td>,\n",
       " <td class=\"chart-table-track\">\n",
       " <strong>C.H.R.I.S.Y.E.</strong>\n",
       " <span>by Diskoria, Laleilmanino, Eva Celia</span>\n",
       " </td>,\n",
       " <td class=\"chart-table-track\">\n",
       " <strong>So Pretty</strong>\n",
       " <span>by Reyanna Maria</span>\n",
       " </td>,\n",
       " <td class=\"chart-table-track\">\n",
       " <strong>Ghalat Fehmi - From \"Superstar\"</strong>\n",
       " <span>by Asim Azhar, Zenab Fatimah Sultan</span>\n",
       " </td>,\n",
       " <td class=\"chart-table-track\">\n",
       " <strong>Friday (feat. Mufasa &amp; Hypeman) - Dopamine Re-Edit</strong>\n",
       " <span>by Riton, Nightcrawlers</span>\n",
       " </td>,\n",
       " <td class=\"chart-table-track\">\n",
       " <strong>ROLLIN N CONTROLLIN FREESTYLE</strong>\n",
       " <span>by DUSTY LOCANE</span>\n",
       " </td>,\n",
       " <td class=\"chart-table-track\">\n",
       " <strong>Kül</strong>\n",
       " <span>by Cem Adrian, Mark Eliyahu</span>\n",
       " </td>,\n",
       " <td class=\"chart-table-track\">\n",
       " <strong>Believe Me</strong>\n",
       " <span>by Navos</span>\n",
       " </td>,\n",
       " <td class=\"chart-table-track\">\n",
       " <strong>drivers license</strong>\n",
       " <span>by Olivia Rodrigo</span>\n",
       " </td>,\n",
       " <td class=\"chart-table-track\">\n",
       " <strong>Subwoofer</strong>\n",
       " <span>by SHINSKY x DIMA</span>\n",
       " </td>,\n",
       " <td class=\"chart-table-track\">\n",
       " <strong>Your Love (9PM)</strong>\n",
       " <span>by ATB, Topic, A7S</span>\n",
       " </td>,\n",
       " <td class=\"chart-table-track\">\n",
       " <strong>LA CANZONE NOSTRA ⟁ ︎(con BLANCO &amp; SALMO)</strong>\n",
       " <span>by MACE</span>\n",
       " </td>,\n",
       " <td class=\"chart-table-track\">\n",
       " <strong>Yours</strong>\n",
       " <span>by Raiden, CHANYEOL, LeeHi, CHANGMO</span>\n",
       " </td>,\n",
       " <td class=\"chart-table-track\">\n",
       " <strong>Szklanki</strong>\n",
       " <span>by Young Leosia</span>\n",
       " </td>,\n",
       " <td class=\"chart-table-track\">\n",
       " <strong>Pierre</strong>\n",
       " <span>by Ryn Weaver</span>\n",
       " </td>,\n",
       " <td class=\"chart-table-track\">\n",
       " <strong>Broken</strong>\n",
       " <span>by Jonah Kagen</span>\n",
       " </td>,\n",
       " <td class=\"chart-table-track\">\n",
       " <strong>Esquema Preferido</strong>\n",
       " <span>by DJ Ivis, Tarcísio do Acordeon</span>\n",
       " </td>,\n",
       " <td class=\"chart-table-track\">\n",
       " <strong>Ратата</strong>\n",
       " <span>by Konfuz</span>\n",
       " </td>,\n",
       " <td class=\"chart-table-track\">\n",
       " <strong>I'm not Pretty</strong>\n",
       " <span>by JESSIA</span>\n",
       " </td>,\n",
       " <td class=\"chart-table-track\">\n",
       " <strong>Do A Bitch</strong>\n",
       " <span>by Kali</span>\n",
       " </td>,\n",
       " <td class=\"chart-table-track\">\n",
       " <strong>Hylander</strong>\n",
       " <span>by Abbot, somynem.grin</span>\n",
       " </td>,\n",
       " <td class=\"chart-table-track\">\n",
       " <strong>Knock Knock</strong>\n",
       " <span>by SoFaygo</span>\n",
       " </td>,\n",
       " <td class=\"chart-table-track\">\n",
       " <strong>Palma da Mão no Chão</strong>\n",
       " <span>by Gil Bala</span>\n",
       " </td>,\n",
       " <td class=\"chart-table-track\">\n",
       " <strong>Celebrity</strong>\n",
       " <span>by IU</span>\n",
       " </td>,\n",
       " <td class=\"chart-table-track\">\n",
       " <strong>Blue Jeans</strong>\n",
       " <span>by GANGGA</span>\n",
       " </td>,\n",
       " <td class=\"chart-table-track\">\n",
       " <strong>VIVID VICE</strong>\n",
       " <span>by Who-ya Extended</span>\n",
       " </td>,\n",
       " <td class=\"chart-table-track\">\n",
       " <strong>Jealous</strong>\n",
       " <span>by Eyedress</span>\n",
       " </td>,\n",
       " <td class=\"chart-table-track\">\n",
       " <strong>Save Your Tears</strong>\n",
       " <span>by The Weeknd</span>\n",
       " </td>,\n",
       " <td class=\"chart-table-track\">\n",
       " <strong>Baila Conmigo (with Rauw Alejandro)</strong>\n",
       " <span>by Selena Gomez</span>\n",
       " </td>,\n",
       " <td class=\"chart-table-track\">\n",
       " <strong>Hadal Ahbek</strong>\n",
       " <span>by Issam Alnajjar</span>\n",
       " </td>,\n",
       " <td class=\"chart-table-track\">\n",
       " <strong>Saturno</strong>\n",
       " <span>by BIN, Mainstreet, Ajaxx</span>\n",
       " </td>,\n",
       " <td class=\"chart-table-track\">\n",
       " <strong>Violent</strong>\n",
       " <span>by carolesdaughter</span>\n",
       " </td>,\n",
       " <td class=\"chart-table-track\">\n",
       " <strong>Gravity (feat. Tyler, The Creator)</strong>\n",
       " <span>by Brent Faiyaz, DJ Dahi</span>\n",
       " </td>,\n",
       " <td class=\"chart-table-track\">\n",
       " <strong>Arcade</strong>\n",
       " <span>by Duncan Laurence</span>\n",
       " </td>,\n",
       " <td class=\"chart-table-track\">\n",
       " <strong>Streets</strong>\n",
       " <span>by Doja Cat</span>\n",
       " </td>,\n",
       " <td class=\"chart-table-track\">\n",
       " <strong>Instant Crush (feat. Julian Casablancas)</strong>\n",
       " <span>by Daft Punk</span>\n",
       " </td>]"
      ]
     },
     "execution_count": 19,
     "metadata": {},
     "output_type": "execute_result"
    }
   ],
   "source": [
    "#get all songs and artists\n",
    "soup1.find_all(class_=\"chart-table-track\")"
   ]
  },
  {
   "cell_type": "code",
   "execution_count": null,
   "metadata": {},
   "outputs": [],
   "source": []
  },
  {
   "cell_type": "code",
   "execution_count": 20,
   "metadata": {},
   "outputs": [],
   "source": [
    "songs1 = []\n",
    "for i in range(51):\n",
    "    soup1.find_all(class_=\"chart-table-track\")[i].get_text()\n",
    "    songs1.append(soup1.find_all(class_=\"chart-table-track\")[i].get_text().strip().split('\\nby'))\n"
   ]
  },
  {
   "cell_type": "code",
   "execution_count": 21,
   "metadata": {
    "collapsed": true,
    "jupyter": {
     "outputs_hidden": true
    }
   },
   "outputs": [
    {
     "data": {
      "text/plain": [
       "[['Track'],\n",
       " ['Wellerman - Sea Shanty / 220 KID x Billen Ted Remix', ' Nathan Evans'],\n",
       " ['SugarCrash!', ' ElyOtto'],\n",
       " ['HEARTBREAK ANNIVERSARY', ' Giveon'],\n",
       " ['Astronaut In The Ocean', ' Masked Wolf'],\n",
       " ['telepatía', ' Kali Uchis'],\n",
       " ['Kota', ' Dere'],\n",
       " ['Wellerman - Sea Shanty', ' Nathan Evans'],\n",
       " ['Tokyo', \" Leat'eq\"],\n",
       " ['Wellerman', ' Sea Shanty'],\n",
       " ['Deus Me Proteja', ' Chico César'],\n",
       " ['Tapão Na Raba', ' Raí Saia Rodada'],\n",
       " ['Weak', ' Larissa Lambert'],\n",
       " ['Starlight', ' CHA NI (SF9)'],\n",
       " ['Tomboy', ' Destiny Rogers'],\n",
       " [\"I'm Missing You\", ' Sunjae'],\n",
       " ['C.H.R.I.S.Y.E.', ' Diskoria, Laleilmanino, Eva Celia'],\n",
       " ['So Pretty', ' Reyanna Maria'],\n",
       " ['Ghalat Fehmi - From \"Superstar\"', ' Asim Azhar, Zenab Fatimah Sultan'],\n",
       " ['Friday (feat. Mufasa & Hypeman) - Dopamine Re-Edit',\n",
       "  ' Riton, Nightcrawlers'],\n",
       " ['ROLLIN N CONTROLLIN FREESTYLE', ' DUSTY LOCANE'],\n",
       " ['Kül', ' Cem Adrian, Mark Eliyahu'],\n",
       " ['Believe Me', ' Navos'],\n",
       " ['drivers license', ' Olivia Rodrigo'],\n",
       " ['Subwoofer', ' SHINSKY x DIMA'],\n",
       " ['Your Love (9PM)', ' ATB, Topic, A7S'],\n",
       " ['LA CANZONE NOSTRA ⟁ ︎(con BLANCO & SALMO)', ' MACE'],\n",
       " ['Yours', ' Raiden, CHANYEOL, LeeHi, CHANGMO'],\n",
       " ['Szklanki', ' Young Leosia'],\n",
       " ['Pierre', ' Ryn Weaver'],\n",
       " ['Broken', ' Jonah Kagen'],\n",
       " ['Esquema Preferido', ' DJ Ivis, Tarcísio do Acordeon'],\n",
       " ['Ратата', ' Konfuz'],\n",
       " [\"I'm not Pretty\", ' JESSIA'],\n",
       " ['Do A Bitch', ' Kali'],\n",
       " ['Hylander', ' Abbot, somynem.grin'],\n",
       " ['Knock Knock', ' SoFaygo'],\n",
       " ['Palma da Mão no Chão', ' Gil Bala'],\n",
       " ['Celebrity', ' IU'],\n",
       " ['Blue Jeans', ' GANGGA'],\n",
       " ['VIVID VICE', ' Who-ya Extended'],\n",
       " ['Jealous', ' Eyedress'],\n",
       " ['Save Your Tears', ' The Weeknd'],\n",
       " ['Baila Conmigo (with Rauw Alejandro)', ' Selena Gomez'],\n",
       " ['Hadal Ahbek', ' Issam Alnajjar'],\n",
       " ['Saturno', ' BIN, Mainstreet, Ajaxx'],\n",
       " ['Violent', ' carolesdaughter'],\n",
       " ['Gravity (feat. Tyler, The Creator)', ' Brent Faiyaz, DJ Dahi'],\n",
       " ['Arcade', ' Duncan Laurence'],\n",
       " ['Streets', ' Doja Cat'],\n",
       " ['Instant Crush (feat. Julian Casablancas)', ' Daft Punk']]"
      ]
     },
     "execution_count": 21,
     "metadata": {},
     "output_type": "execute_result"
    }
   ],
   "source": [
    "songs1"
   ]
  },
  {
   "cell_type": "code",
   "execution_count": 22,
   "metadata": {},
   "outputs": [],
   "source": [
    "songs_new = [item[0] for item in songs1]"
   ]
  },
  {
   "cell_type": "code",
   "execution_count": 23,
   "metadata": {},
   "outputs": [
    {
     "data": {
      "text/plain": [
       "'Track'"
      ]
     },
     "execution_count": 23,
     "metadata": {},
     "output_type": "execute_result"
    }
   ],
   "source": [
    "songs_new.pop(0)"
   ]
  },
  {
   "cell_type": "code",
   "execution_count": 24,
   "metadata": {},
   "outputs": [
    {
     "data": {
      "text/plain": [
       "50"
      ]
     },
     "execution_count": 24,
     "metadata": {},
     "output_type": "execute_result"
    }
   ],
   "source": [
    "len(songs_new)"
   ]
  },
  {
   "cell_type": "code",
   "execution_count": 25,
   "metadata": {},
   "outputs": [],
   "source": [
    "artists_new = [item[-1] for item in songs1]"
   ]
  },
  {
   "cell_type": "code",
   "execution_count": 26,
   "metadata": {},
   "outputs": [
    {
     "data": {
      "text/plain": [
       "'Track'"
      ]
     },
     "execution_count": 26,
     "metadata": {},
     "output_type": "execute_result"
    }
   ],
   "source": [
    "artists_new.pop(0)"
   ]
  },
  {
   "cell_type": "code",
   "execution_count": 27,
   "metadata": {},
   "outputs": [
    {
     "data": {
      "text/plain": [
       "50"
      ]
     },
     "execution_count": 27,
     "metadata": {},
     "output_type": "execute_result"
    }
   ],
   "source": [
    "len(artists_new)"
   ]
  },
  {
   "cell_type": "code",
   "execution_count": 28,
   "metadata": {},
   "outputs": [],
   "source": [
    "table = pd.DataFrame({'song' : songs_new, 'artist' : artists_new})"
   ]
  },
  {
   "cell_type": "code",
   "execution_count": null,
   "metadata": {},
   "outputs": [],
   "source": []
  },
  {
   "cell_type": "code",
   "execution_count": 29,
   "metadata": {},
   "outputs": [],
   "source": [
    "table.index += 1"
   ]
  },
  {
   "cell_type": "code",
   "execution_count": 30,
   "metadata": {},
   "outputs": [
    {
     "data": {
      "text/html": [
       "<div>\n",
       "<style scoped>\n",
       "    .dataframe tbody tr th:only-of-type {\n",
       "        vertical-align: middle;\n",
       "    }\n",
       "\n",
       "    .dataframe tbody tr th {\n",
       "        vertical-align: top;\n",
       "    }\n",
       "\n",
       "    .dataframe thead th {\n",
       "        text-align: right;\n",
       "    }\n",
       "</style>\n",
       "<table border=\"1\" class=\"dataframe\">\n",
       "  <thead>\n",
       "    <tr style=\"text-align: right;\">\n",
       "      <th></th>\n",
       "      <th>song</th>\n",
       "      <th>artist</th>\n",
       "    </tr>\n",
       "  </thead>\n",
       "  <tbody>\n",
       "    <tr>\n",
       "      <th>1</th>\n",
       "      <td>Wellerman - Sea Shanty / 220 KID x Billen Ted ...</td>\n",
       "      <td>Nathan Evans</td>\n",
       "    </tr>\n",
       "    <tr>\n",
       "      <th>2</th>\n",
       "      <td>SugarCrash!</td>\n",
       "      <td>ElyOtto</td>\n",
       "    </tr>\n",
       "    <tr>\n",
       "      <th>3</th>\n",
       "      <td>HEARTBREAK ANNIVERSARY</td>\n",
       "      <td>Giveon</td>\n",
       "    </tr>\n",
       "    <tr>\n",
       "      <th>4</th>\n",
       "      <td>Astronaut In The Ocean</td>\n",
       "      <td>Masked Wolf</td>\n",
       "    </tr>\n",
       "    <tr>\n",
       "      <th>5</th>\n",
       "      <td>telepatía</td>\n",
       "      <td>Kali Uchis</td>\n",
       "    </tr>\n",
       "    <tr>\n",
       "      <th>6</th>\n",
       "      <td>Kota</td>\n",
       "      <td>Dere</td>\n",
       "    </tr>\n",
       "    <tr>\n",
       "      <th>7</th>\n",
       "      <td>Wellerman - Sea Shanty</td>\n",
       "      <td>Nathan Evans</td>\n",
       "    </tr>\n",
       "    <tr>\n",
       "      <th>8</th>\n",
       "      <td>Tokyo</td>\n",
       "      <td>Leat'eq</td>\n",
       "    </tr>\n",
       "    <tr>\n",
       "      <th>9</th>\n",
       "      <td>Wellerman</td>\n",
       "      <td>Sea Shanty</td>\n",
       "    </tr>\n",
       "    <tr>\n",
       "      <th>10</th>\n",
       "      <td>Deus Me Proteja</td>\n",
       "      <td>Chico César</td>\n",
       "    </tr>\n",
       "    <tr>\n",
       "      <th>11</th>\n",
       "      <td>Tapão Na Raba</td>\n",
       "      <td>Raí Saia Rodada</td>\n",
       "    </tr>\n",
       "    <tr>\n",
       "      <th>12</th>\n",
       "      <td>Weak</td>\n",
       "      <td>Larissa Lambert</td>\n",
       "    </tr>\n",
       "    <tr>\n",
       "      <th>13</th>\n",
       "      <td>Starlight</td>\n",
       "      <td>CHA NI (SF9)</td>\n",
       "    </tr>\n",
       "    <tr>\n",
       "      <th>14</th>\n",
       "      <td>Tomboy</td>\n",
       "      <td>Destiny Rogers</td>\n",
       "    </tr>\n",
       "    <tr>\n",
       "      <th>15</th>\n",
       "      <td>I'm Missing You</td>\n",
       "      <td>Sunjae</td>\n",
       "    </tr>\n",
       "    <tr>\n",
       "      <th>16</th>\n",
       "      <td>C.H.R.I.S.Y.E.</td>\n",
       "      <td>Diskoria, Laleilmanino, Eva Celia</td>\n",
       "    </tr>\n",
       "    <tr>\n",
       "      <th>17</th>\n",
       "      <td>So Pretty</td>\n",
       "      <td>Reyanna Maria</td>\n",
       "    </tr>\n",
       "    <tr>\n",
       "      <th>18</th>\n",
       "      <td>Ghalat Fehmi - From \"Superstar\"</td>\n",
       "      <td>Asim Azhar, Zenab Fatimah Sultan</td>\n",
       "    </tr>\n",
       "    <tr>\n",
       "      <th>19</th>\n",
       "      <td>Friday (feat. Mufasa &amp; Hypeman) - Dopamine Re-...</td>\n",
       "      <td>Riton, Nightcrawlers</td>\n",
       "    </tr>\n",
       "    <tr>\n",
       "      <th>20</th>\n",
       "      <td>ROLLIN N CONTROLLIN FREESTYLE</td>\n",
       "      <td>DUSTY LOCANE</td>\n",
       "    </tr>\n",
       "    <tr>\n",
       "      <th>21</th>\n",
       "      <td>Kül</td>\n",
       "      <td>Cem Adrian, Mark Eliyahu</td>\n",
       "    </tr>\n",
       "    <tr>\n",
       "      <th>22</th>\n",
       "      <td>Believe Me</td>\n",
       "      <td>Navos</td>\n",
       "    </tr>\n",
       "    <tr>\n",
       "      <th>23</th>\n",
       "      <td>drivers license</td>\n",
       "      <td>Olivia Rodrigo</td>\n",
       "    </tr>\n",
       "    <tr>\n",
       "      <th>24</th>\n",
       "      <td>Subwoofer</td>\n",
       "      <td>SHINSKY x DIMA</td>\n",
       "    </tr>\n",
       "    <tr>\n",
       "      <th>25</th>\n",
       "      <td>Your Love (9PM)</td>\n",
       "      <td>ATB, Topic, A7S</td>\n",
       "    </tr>\n",
       "    <tr>\n",
       "      <th>26</th>\n",
       "      <td>LA CANZONE NOSTRA ⟁ ︎(con BLANCO &amp; SALMO)</td>\n",
       "      <td>MACE</td>\n",
       "    </tr>\n",
       "    <tr>\n",
       "      <th>27</th>\n",
       "      <td>Yours</td>\n",
       "      <td>Raiden, CHANYEOL, LeeHi, CHANGMO</td>\n",
       "    </tr>\n",
       "    <tr>\n",
       "      <th>28</th>\n",
       "      <td>Szklanki</td>\n",
       "      <td>Young Leosia</td>\n",
       "    </tr>\n",
       "    <tr>\n",
       "      <th>29</th>\n",
       "      <td>Pierre</td>\n",
       "      <td>Ryn Weaver</td>\n",
       "    </tr>\n",
       "    <tr>\n",
       "      <th>30</th>\n",
       "      <td>Broken</td>\n",
       "      <td>Jonah Kagen</td>\n",
       "    </tr>\n",
       "    <tr>\n",
       "      <th>31</th>\n",
       "      <td>Esquema Preferido</td>\n",
       "      <td>DJ Ivis, Tarcísio do Acordeon</td>\n",
       "    </tr>\n",
       "    <tr>\n",
       "      <th>32</th>\n",
       "      <td>Ратата</td>\n",
       "      <td>Konfuz</td>\n",
       "    </tr>\n",
       "    <tr>\n",
       "      <th>33</th>\n",
       "      <td>I'm not Pretty</td>\n",
       "      <td>JESSIA</td>\n",
       "    </tr>\n",
       "    <tr>\n",
       "      <th>34</th>\n",
       "      <td>Do A Bitch</td>\n",
       "      <td>Kali</td>\n",
       "    </tr>\n",
       "    <tr>\n",
       "      <th>35</th>\n",
       "      <td>Hylander</td>\n",
       "      <td>Abbot, somynem.grin</td>\n",
       "    </tr>\n",
       "    <tr>\n",
       "      <th>36</th>\n",
       "      <td>Knock Knock</td>\n",
       "      <td>SoFaygo</td>\n",
       "    </tr>\n",
       "    <tr>\n",
       "      <th>37</th>\n",
       "      <td>Palma da Mão no Chão</td>\n",
       "      <td>Gil Bala</td>\n",
       "    </tr>\n",
       "    <tr>\n",
       "      <th>38</th>\n",
       "      <td>Celebrity</td>\n",
       "      <td>IU</td>\n",
       "    </tr>\n",
       "    <tr>\n",
       "      <th>39</th>\n",
       "      <td>Blue Jeans</td>\n",
       "      <td>GANGGA</td>\n",
       "    </tr>\n",
       "    <tr>\n",
       "      <th>40</th>\n",
       "      <td>VIVID VICE</td>\n",
       "      <td>Who-ya Extended</td>\n",
       "    </tr>\n",
       "    <tr>\n",
       "      <th>41</th>\n",
       "      <td>Jealous</td>\n",
       "      <td>Eyedress</td>\n",
       "    </tr>\n",
       "    <tr>\n",
       "      <th>42</th>\n",
       "      <td>Save Your Tears</td>\n",
       "      <td>The Weeknd</td>\n",
       "    </tr>\n",
       "    <tr>\n",
       "      <th>43</th>\n",
       "      <td>Baila Conmigo (with Rauw Alejandro)</td>\n",
       "      <td>Selena Gomez</td>\n",
       "    </tr>\n",
       "    <tr>\n",
       "      <th>44</th>\n",
       "      <td>Hadal Ahbek</td>\n",
       "      <td>Issam Alnajjar</td>\n",
       "    </tr>\n",
       "    <tr>\n",
       "      <th>45</th>\n",
       "      <td>Saturno</td>\n",
       "      <td>BIN, Mainstreet, Ajaxx</td>\n",
       "    </tr>\n",
       "    <tr>\n",
       "      <th>46</th>\n",
       "      <td>Violent</td>\n",
       "      <td>carolesdaughter</td>\n",
       "    </tr>\n",
       "    <tr>\n",
       "      <th>47</th>\n",
       "      <td>Gravity (feat. Tyler, The Creator)</td>\n",
       "      <td>Brent Faiyaz, DJ Dahi</td>\n",
       "    </tr>\n",
       "    <tr>\n",
       "      <th>48</th>\n",
       "      <td>Arcade</td>\n",
       "      <td>Duncan Laurence</td>\n",
       "    </tr>\n",
       "    <tr>\n",
       "      <th>49</th>\n",
       "      <td>Streets</td>\n",
       "      <td>Doja Cat</td>\n",
       "    </tr>\n",
       "    <tr>\n",
       "      <th>50</th>\n",
       "      <td>Instant Crush (feat. Julian Casablancas)</td>\n",
       "      <td>Daft Punk</td>\n",
       "    </tr>\n",
       "  </tbody>\n",
       "</table>\n",
       "</div>"
      ],
      "text/plain": [
       "                                                 song  \\\n",
       "1   Wellerman - Sea Shanty / 220 KID x Billen Ted ...   \n",
       "2                                         SugarCrash!   \n",
       "3                              HEARTBREAK ANNIVERSARY   \n",
       "4                              Astronaut In The Ocean   \n",
       "5                                           telepatía   \n",
       "6                                                Kota   \n",
       "7                              Wellerman - Sea Shanty   \n",
       "8                                               Tokyo   \n",
       "9                                           Wellerman   \n",
       "10                                    Deus Me Proteja   \n",
       "11                                      Tapão Na Raba   \n",
       "12                                               Weak   \n",
       "13                                          Starlight   \n",
       "14                                             Tomboy   \n",
       "15                                    I'm Missing You   \n",
       "16                                     C.H.R.I.S.Y.E.   \n",
       "17                                          So Pretty   \n",
       "18                    Ghalat Fehmi - From \"Superstar\"   \n",
       "19  Friday (feat. Mufasa & Hypeman) - Dopamine Re-...   \n",
       "20                      ROLLIN N CONTROLLIN FREESTYLE   \n",
       "21                                                Kül   \n",
       "22                                         Believe Me   \n",
       "23                                    drivers license   \n",
       "24                                          Subwoofer   \n",
       "25                                    Your Love (9PM)   \n",
       "26          LA CANZONE NOSTRA ⟁ ︎(con BLANCO & SALMO)   \n",
       "27                                              Yours   \n",
       "28                                           Szklanki   \n",
       "29                                             Pierre   \n",
       "30                                             Broken   \n",
       "31                                  Esquema Preferido   \n",
       "32                                             Ратата   \n",
       "33                                     I'm not Pretty   \n",
       "34                                         Do A Bitch   \n",
       "35                                           Hylander   \n",
       "36                                        Knock Knock   \n",
       "37                               Palma da Mão no Chão   \n",
       "38                                          Celebrity   \n",
       "39                                         Blue Jeans   \n",
       "40                                         VIVID VICE   \n",
       "41                                            Jealous   \n",
       "42                                    Save Your Tears   \n",
       "43                Baila Conmigo (with Rauw Alejandro)   \n",
       "44                                        Hadal Ahbek   \n",
       "45                                            Saturno   \n",
       "46                                            Violent   \n",
       "47                 Gravity (feat. Tyler, The Creator)   \n",
       "48                                             Arcade   \n",
       "49                                            Streets   \n",
       "50           Instant Crush (feat. Julian Casablancas)   \n",
       "\n",
       "                                artist  \n",
       "1                         Nathan Evans  \n",
       "2                              ElyOtto  \n",
       "3                               Giveon  \n",
       "4                          Masked Wolf  \n",
       "5                           Kali Uchis  \n",
       "6                                 Dere  \n",
       "7                         Nathan Evans  \n",
       "8                              Leat'eq  \n",
       "9                           Sea Shanty  \n",
       "10                         Chico César  \n",
       "11                     Raí Saia Rodada  \n",
       "12                     Larissa Lambert  \n",
       "13                        CHA NI (SF9)  \n",
       "14                      Destiny Rogers  \n",
       "15                              Sunjae  \n",
       "16   Diskoria, Laleilmanino, Eva Celia  \n",
       "17                       Reyanna Maria  \n",
       "18    Asim Azhar, Zenab Fatimah Sultan  \n",
       "19                Riton, Nightcrawlers  \n",
       "20                        DUSTY LOCANE  \n",
       "21            Cem Adrian, Mark Eliyahu  \n",
       "22                               Navos  \n",
       "23                      Olivia Rodrigo  \n",
       "24                      SHINSKY x DIMA  \n",
       "25                     ATB, Topic, A7S  \n",
       "26                                MACE  \n",
       "27    Raiden, CHANYEOL, LeeHi, CHANGMO  \n",
       "28                        Young Leosia  \n",
       "29                          Ryn Weaver  \n",
       "30                         Jonah Kagen  \n",
       "31       DJ Ivis, Tarcísio do Acordeon  \n",
       "32                              Konfuz  \n",
       "33                              JESSIA  \n",
       "34                                Kali  \n",
       "35                 Abbot, somynem.grin  \n",
       "36                             SoFaygo  \n",
       "37                            Gil Bala  \n",
       "38                                  IU  \n",
       "39                              GANGGA  \n",
       "40                     Who-ya Extended  \n",
       "41                            Eyedress  \n",
       "42                          The Weeknd  \n",
       "43                        Selena Gomez  \n",
       "44                      Issam Alnajjar  \n",
       "45              BIN, Mainstreet, Ajaxx  \n",
       "46                     carolesdaughter  \n",
       "47               Brent Faiyaz, DJ Dahi  \n",
       "48                     Duncan Laurence  \n",
       "49                            Doja Cat  \n",
       "50                           Daft Punk  "
      ]
     },
     "execution_count": 30,
     "metadata": {},
     "output_type": "execute_result"
    }
   ],
   "source": [
    "table"
   ]
  },
  {
   "cell_type": "code",
   "execution_count": 31,
   "metadata": {},
   "outputs": [],
   "source": [
    "#this didnt work\n",
    "#table['title'].strip()   #replace('\\n','')"
   ]
  },
  {
   "cell_type": "code",
   "execution_count": 32,
   "metadata": {},
   "outputs": [],
   "source": [
    "#def my_par_strip_fct(x):\n",
    "#    return int(x.rstrip())\n",
    "\n",
    "#table['title'].apply(my_par_strip_fct)"
   ]
  },
  {
   "cell_type": "code",
   "execution_count": 33,
   "metadata": {},
   "outputs": [],
   "source": [
    "billboard = pd.concat([df, table], ignore_index=True, sort=False)\n",
    "\n"
   ]
  },
  {
   "cell_type": "code",
   "execution_count": 34,
   "metadata": {},
   "outputs": [
    {
     "data": {
      "text/html": [
       "<div>\n",
       "<style scoped>\n",
       "    .dataframe tbody tr th:only-of-type {\n",
       "        vertical-align: middle;\n",
       "    }\n",
       "\n",
       "    .dataframe tbody tr th {\n",
       "        vertical-align: top;\n",
       "    }\n",
       "\n",
       "    .dataframe thead th {\n",
       "        text-align: right;\n",
       "    }\n",
       "</style>\n",
       "<table border=\"1\" class=\"dataframe\">\n",
       "  <thead>\n",
       "    <tr style=\"text-align: right;\">\n",
       "      <th></th>\n",
       "      <th>song</th>\n",
       "      <th>artist</th>\n",
       "    </tr>\n",
       "  </thead>\n",
       "  <tbody>\n",
       "    <tr>\n",
       "      <th>0</th>\n",
       "      <td>Drivers License</td>\n",
       "      <td>Olivia Rodrigo</td>\n",
       "    </tr>\n",
       "    <tr>\n",
       "      <th>1</th>\n",
       "      <td>34+35</td>\n",
       "      <td>Ariana Grande</td>\n",
       "    </tr>\n",
       "    <tr>\n",
       "      <th>2</th>\n",
       "      <td>Calling My Phone</td>\n",
       "      <td>Lil Tjay Featuring 6LACK</td>\n",
       "    </tr>\n",
       "    <tr>\n",
       "      <th>3</th>\n",
       "      <td>Blinding Lights</td>\n",
       "      <td>The Weeknd</td>\n",
       "    </tr>\n",
       "    <tr>\n",
       "      <th>4</th>\n",
       "      <td>Up</td>\n",
       "      <td>Cardi B</td>\n",
       "    </tr>\n",
       "    <tr>\n",
       "      <th>...</th>\n",
       "      <td>...</td>\n",
       "      <td>...</td>\n",
       "    </tr>\n",
       "    <tr>\n",
       "      <th>145</th>\n",
       "      <td>Violent</td>\n",
       "      <td>carolesdaughter</td>\n",
       "    </tr>\n",
       "    <tr>\n",
       "      <th>146</th>\n",
       "      <td>Gravity (feat. Tyler, The Creator)</td>\n",
       "      <td>Brent Faiyaz, DJ Dahi</td>\n",
       "    </tr>\n",
       "    <tr>\n",
       "      <th>147</th>\n",
       "      <td>Arcade</td>\n",
       "      <td>Duncan Laurence</td>\n",
       "    </tr>\n",
       "    <tr>\n",
       "      <th>148</th>\n",
       "      <td>Streets</td>\n",
       "      <td>Doja Cat</td>\n",
       "    </tr>\n",
       "    <tr>\n",
       "      <th>149</th>\n",
       "      <td>Instant Crush (feat. Julian Casablancas)</td>\n",
       "      <td>Daft Punk</td>\n",
       "    </tr>\n",
       "  </tbody>\n",
       "</table>\n",
       "<p>150 rows × 2 columns</p>\n",
       "</div>"
      ],
      "text/plain": [
       "                                         song                    artist\n",
       "0                             Drivers License            Olivia Rodrigo\n",
       "1                                       34+35             Ariana Grande\n",
       "2                            Calling My Phone  Lil Tjay Featuring 6LACK\n",
       "3                             Blinding Lights                The Weeknd\n",
       "4                                          Up                   Cardi B\n",
       "..                                        ...                       ...\n",
       "145                                   Violent           carolesdaughter\n",
       "146        Gravity (feat. Tyler, The Creator)     Brent Faiyaz, DJ Dahi\n",
       "147                                    Arcade           Duncan Laurence\n",
       "148                                   Streets                  Doja Cat\n",
       "149  Instant Crush (feat. Julian Casablancas)                 Daft Punk\n",
       "\n",
       "[150 rows x 2 columns]"
      ]
     },
     "execution_count": 34,
     "metadata": {},
     "output_type": "execute_result"
    }
   ],
   "source": [
    "billboard"
   ]
  },
  {
   "cell_type": "code",
   "execution_count": 37,
   "metadata": {},
   "outputs": [],
   "source": [
    "def hot_recommender():\n",
    "    # import scraping function & random int generator\n",
    "    from scrape_billboard import scrape_billboard\n",
    "    from random import randint\n",
    "    \n",
    "    # scrape billboard hot 100\n",
    "    billboard = scrape_billboard()\n",
    "    \n",
    "    # ask for song\n",
    "    song = input(\"What song do you like? \")\n",
    "    \n",
    "    # check if song is on billboard hot 100\n",
    "    song_row = billboard[billboard[\"song\"].str.contains(song)]\n",
    "    if len(song_row) == 0:\n",
    "        print(\"Your song is not hot\")\n",
    "    else:\n",
    "        check_song = input(\"Did you mean \" + song_row[\"song\"].values[0] + \" by \" + song_row[\"artist\"].values[0] + \"? \")    \n",
    "    \n",
    "        # if song is in billboard hot 100, recommend another random hot song\n",
    "        if check_song == \"yes\":\n",
    "            print(\"That's a hot song.\")\n",
    "            random_song = randint(0, len(billboard)-1)\n",
    "            print(\"You might also like \" + billboard[\"song\"][random_song] + \" by \" + billboard[\"artist\"][random_song])\n",
    "        else:\n",
    "            print(\"Ah, not the one I had in mind.\")"
   ]
  },
  {
   "cell_type": "code",
   "execution_count": 38,
   "metadata": {},
   "outputs": [],
   "source": [
    "from recommender_mvp import hot_recommender"
   ]
  },
  {
   "cell_type": "code",
   "execution_count": null,
   "metadata": {},
   "outputs": [],
   "source": []
  },
  {
   "cell_type": "code",
   "execution_count": null,
   "metadata": {},
   "outputs": [],
   "source": [
    "#hot_recommender()"
   ]
  },
  {
   "cell_type": "code",
   "execution_count": null,
   "metadata": {},
   "outputs": [],
   "source": []
  },
  {
   "cell_type": "markdown",
   "metadata": {},
   "source": [
    "## Lab API Wrappers"
   ]
  },
  {
   "cell_type": "code",
   "execution_count": null,
   "metadata": {},
   "outputs": [],
   "source": [
    "import spotipy\n",
    "from spotipy.oauth2 import SpotifyClientCredentials\n",
    "# Function:\n",
    "        # input: username, playlist_id\n",
    "        # output: ALL the songs, not just 100\n",
    "def get_playlist_tracks(username, playlist_id):\n",
    "    results = sp.user_playlist_tracks(username, playlist_id)\n",
    "    tracks = results['items']\n",
    "    while results['next']:\n",
    "        # print(results['next'])\n",
    "        results = sp.next(results)\n",
    "        tracks.extend(results['items'])\n",
    "    return tracks"
   ]
  },
  {
   "cell_type": "code",
   "execution_count": null,
   "metadata": {},
   "outputs": [],
   "source": [
    "sp = spotipy.Spotify(auth_manager=SpotifyClientCredentials(client_id = \"0c1986b028b5499b8e68fc9b91235e1c\", client_secret = \"fc1cb62d8afd4630a50c6a0d21a11467\"))"
   ]
  },
  {
   "cell_type": "code",
   "execution_count": null,
   "metadata": {},
   "outputs": [],
   "source": [
    "playlist_full = get_playlist_tracks(\"spotify\",\"4rnleEAOdmFAbRcNCgZMpY\")"
   ]
  },
  {
   "cell_type": "code",
   "execution_count": null,
   "metadata": {},
   "outputs": [],
   "source": [
    "import pandas as pd"
   ]
  },
  {
   "cell_type": "code",
   "execution_count": null,
   "metadata": {},
   "outputs": [],
   "source": [
    "song_names=[]\n",
    "song_uri=[]\n",
    "artist_names=[]\n",
    "artist_uri=[]\n",
    "\n",
    "for item in playlist_full:\n",
    "    song_names.append(item['track']['name'])\n",
    "    song_uri.append(item['track']['uri'])\n",
    "    artist_names.append(item['track']['artists'][0][\"name\"])\n",
    "    artist_uri.append(item['track']['artists'][0][\"uri\"])\n",
    "\n",
    "df=pd.DataFrame({\"song_name\":song_names,\n",
    "                \"song_uri\": song_uri,\n",
    "                \"artist names\": artist_names,\n",
    "                #\"artist_uri\": artist_uri\n",
    "                })"
   ]
  },
  {
   "cell_type": "code",
   "execution_count": null,
   "metadata": {},
   "outputs": [],
   "source": [
    "song_names=[]\n",
    "song_id=[]\n",
    "artist_names=[]\n",
    "artist_id=[]\n",
    "\n",
    "for item in playlist_full:\n",
    "    song_names.append(item['track']['name'])\n",
    "    song_id.append(item[\"track\"][\"id\"])\n",
    "    artist_names.append(item['track']['artists'][0][\"name\"])\n",
    "    artist_uri.append(item['track']['artists'][0][\"uri\"])\n",
    "\n",
    "df1=pd.DataFrame({\"song_name\":song_names,\n",
    "                \"song_id\": song_id,\n",
    "                \"artist names\": artist_names,\n",
    "                #\"artist_uri\": artist_uri\n",
    "                })"
   ]
  },
  {
   "cell_type": "code",
   "execution_count": null,
   "metadata": {},
   "outputs": [],
   "source": [
    "playlist_full[200][\"track\"][\"name\"]"
   ]
  },
  {
   "cell_type": "code",
   "execution_count": null,
   "metadata": {},
   "outputs": [],
   "source": [
    "playlist_full"
   ]
  },
  {
   "cell_type": "code",
   "execution_count": null,
   "metadata": {},
   "outputs": [],
   "source": [
    "df"
   ]
  },
  {
   "cell_type": "code",
   "execution_count": null,
   "metadata": {},
   "outputs": [],
   "source": [
    "# remove duplicates\n",
    "\n",
    "df = df.drop_duplicates([\"song_uri\"])"
   ]
  },
  {
   "cell_type": "code",
   "execution_count": null,
   "metadata": {},
   "outputs": [],
   "source": [
    "#function for getting audio features for ids\n",
    "def get_audio_features(playlist_id):\n",
    "    song_ids = get_song_id_from_playlist(playlist_id)\n",
    "    audio_f_df = [sp.audio_features(track)[0] for track in song_ids]\n",
    "    return pd.DataFrame(audio_f_df)"
   ]
  },
  {
   "cell_type": "code",
   "execution_count": null,
   "metadata": {},
   "outputs": [],
   "source": [
    "#get_audio_features(playlist_full)"
   ]
  },
  {
   "cell_type": "code",
   "execution_count": null,
   "metadata": {},
   "outputs": [],
   "source": [
    "audio_f_df = get_audio_features(\"spotify:playlist:4rnleEAOdmFAbRcNCgZMpY\")"
   ]
  },
  {
   "cell_type": "code",
   "execution_count": null,
   "metadata": {},
   "outputs": [],
   "source": [
    "len(audio_f_df)"
   ]
  },
  {
   "cell_type": "code",
   "execution_count": null,
   "metadata": {},
   "outputs": [],
   "source": [
    "audio_f_df.head()"
   ]
  },
  {
   "cell_type": "code",
   "execution_count": null,
   "metadata": {},
   "outputs": [],
   "source": [
    "merged_tables = pd.merge(left=df, right=audio_f_df, left_on='song_uri', right_on='uri')"
   ]
  },
  {
   "cell_type": "code",
   "execution_count": null,
   "metadata": {},
   "outputs": [],
   "source": [
    "merged_tables.shape"
   ]
  },
  {
   "cell_type": "code",
   "execution_count": null,
   "metadata": {},
   "outputs": [],
   "source": [
    "merged_tables.head()"
   ]
  },
  {
   "cell_type": "code",
   "execution_count": null,
   "metadata": {},
   "outputs": [],
   "source": []
  }
 ],
 "metadata": {
  "kernelspec": {
   "display_name": "Python 3",
   "language": "python",
   "name": "python3"
  },
  "language_info": {
   "codemirror_mode": {
    "name": "ipython",
    "version": 3
   },
   "file_extension": ".py",
   "mimetype": "text/x-python",
   "name": "python",
   "nbconvert_exporter": "python",
   "pygments_lexer": "ipython3",
   "version": "3.8.5"
  }
 },
 "nbformat": 4,
 "nbformat_minor": 4
}
